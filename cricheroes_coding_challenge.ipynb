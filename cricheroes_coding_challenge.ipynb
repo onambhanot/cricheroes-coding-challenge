{
 "cells": [
  {
   "cell_type": "code",
   "execution_count": 1,
   "id": "2815643a",
   "metadata": {},
   "outputs": [],
   "source": [
    "#importing pandas library for data manipulation\n",
    "import pandas as pd"
   ]
  },
  {
   "cell_type": "code",
   "execution_count": 2,
   "id": "bd0e94a5",
   "metadata": {},
   "outputs": [
    {
     "name": "stdout",
     "output_type": "stream",
     "text": [
      "<class 'pandas.core.frame.DataFrame'>\n",
      "RangeIndex: 215 entries, 0 to 214\n",
      "Data columns (total 22 columns):\n",
      " #   Column                  Non-Null Count  Dtype  \n",
      "---  ------                  --------------  -----  \n",
      " 0   match_id                215 non-null    int64  \n",
      " 1   season                  215 non-null    int64  \n",
      " 2   start_date              215 non-null    object \n",
      " 3   venue                   215 non-null    object \n",
      " 4   innings                 215 non-null    int64  \n",
      " 5   ball                    215 non-null    float64\n",
      " 6   batting_team            215 non-null    object \n",
      " 7   bowling_team            215 non-null    object \n",
      " 8   striker                 215 non-null    object \n",
      " 9   non_striker             215 non-null    object \n",
      " 10  bowler                  215 non-null    object \n",
      " 11  runs_off_bat            215 non-null    int64  \n",
      " 12  extras                  215 non-null    int64  \n",
      " 13  wides                   4 non-null      float64\n",
      " 14  noballs                 4 non-null      float64\n",
      " 15  byes                    1 non-null      float64\n",
      " 16  legbyes                 3 non-null      float64\n",
      " 17  penalty                 0 non-null      float64\n",
      " 18  wicket_type             18 non-null     object \n",
      " 19  player_dismissed        18 non-null     object \n",
      " 20  other_wicket_type       0 non-null      float64\n",
      " 21  other_player_dismissed  0 non-null      float64\n",
      "dtypes: float64(8), int64(5), object(9)\n",
      "memory usage: 37.1+ KB\n"
     ]
    }
   ],
   "source": [
    "#loading the csv file\n",
    "cricket = pd.read_csv(r\"C:\\Users\\Onam\\Downloads\\Cricket_dataset.csv\")\n",
    "cricket\n",
    "# computing number of rows\n",
    "rows = len(cricket.axes[0])\n",
    "rows\n",
    "  \n",
    "# computing number of columns\n",
    "cols = len(cricket.axes[1])\n",
    "cols\n",
    "\n",
    "#finding cricket dataframe structure\n",
    "cricket.info()\n"
   ]
  },
  {
   "cell_type": "code",
   "execution_count": 4,
   "id": "8bdba65a",
   "metadata": {},
   "outputs": [
    {
     "data": {
      "text/plain": [
       "'A Symonds'"
      ]
     },
     "execution_count": 4,
     "metadata": {},
     "output_type": "execute_result"
    }
   ],
   "source": [
    "#1. Who was the most economical bowler in the match.\n",
    "#creating a list of columns that we want to sum together, in this case it will be sum of runs that is given by bowler including\n",
    "#extra runs\n",
    "columns_list = ['runs_off_bat','extras','wides','noballs','byes','legbyes','penalty']\n",
    "#creating a new column with total runs from all the columns_list\n",
    "cricket['bowler_runs'] = cricket[columns_list].sum(axis=1)\n",
    "#creating a new column stats1, grouped by bowler and aggregating bowler runs\n",
    "stats1=cricket.groupby(['bowler'])['bowler_runs'].agg('sum')\n",
    "#displaying stats1\n",
    "stats1\n",
    "#calculating number of balls that each bowler bowled using size()\n",
    "stats2=cricket.groupby(['bowler']).size()\n",
    "#displaying stats2\n",
    "stats2\n",
    "#calculating economy of each bowler(divinding total runs given by bowler divided by total number of balls they bowled)\n",
    "economy=stats1/stats2\n",
    "#displaying economy\n",
    "economy\n",
    "#displaying name of bowler who was most economical(lesser the economy, more good is the bowler)\n",
    "idx=economy.idxmin()\n",
    "idx\n",
    "\n",
    "\n"
   ]
  },
  {
   "cell_type": "code",
   "execution_count": 5,
   "id": "36f91543",
   "metadata": {},
   "outputs": [
    {
     "data": {
      "text/plain": [
       "'J Lewis'"
      ]
     },
     "execution_count": 5,
     "metadata": {},
     "output_type": "execute_result"
    }
   ],
   "source": [
    "#2. Who was the highest wicket-taker in the match.\n",
    "#copying the columns 'bowler' and 'wicket_type' in a new dataframe\n",
    "new_df=cricket[['bowler', 'wicket_type']].copy()\n",
    "#finding top 5 rows using head() function\n",
    "new_df.head()\n",
    "#dropping the rows in which no wickets are taken(basically nan values)\n",
    "df1 = new_df.dropna()\n",
    "df1\n",
    "#calculating number of wickets taken by each bowler\n",
    "stats1=df1.groupby(['bowler']).size()\n",
    "stats1\n",
    "#displaying name of bowler who has taken the most wickets\n",
    "idx=stats1.idxmax()\n",
    "idx\n",
    "\n"
   ]
  },
  {
   "cell_type": "code",
   "execution_count": 6,
   "id": "9a952be8",
   "metadata": {},
   "outputs": [
    {
     "data": {
      "text/plain": [
       "'PD Collingwood'"
      ]
     },
     "execution_count": 6,
     "metadata": {},
     "output_type": "execute_result"
    }
   ],
   "source": [
    "#3. Who was the Highest Run Scorer in the match.\n",
    "#copying the columns 'striker' and 'runs_off_bat' in a new dataframe\n",
    "new_df=new = cricket[['striker', 'runs_off_bat']].copy()\n",
    "#finding top 5 rows using head() function\n",
    "new_df.head()\n",
    "#calculating number of runs taken by each striker\n",
    "stats1=new_df.groupby(['striker'])['runs_off_bat'].agg('sum')\n",
    "stats1\n",
    "#displaying name of striker who has scored the most runs\n",
    "idx=stats1.idxmax()\n",
    "idx"
   ]
  },
  {
   "cell_type": "code",
   "execution_count": 7,
   "id": "de2b23a0",
   "metadata": {},
   "outputs": [
    {
     "name": "stdout",
     "output_type": "stream",
     "text": [
      "5\n"
     ]
    }
   ],
   "source": [
    "#4. How many batsmen from the England team have scored less than 20 runs in the match.\n",
    "#creating a new dataframe having only records from England team\n",
    "filtered_team = cricket[cricket['batting_team']=='England']\n",
    "filtered_team\n",
    "#copying the columns 'striker' and 'runs_off_bat' in a new dataframe\n",
    "new_df=filtered_team[['striker', 'runs_off_bat']].copy()\n",
    "#finding top 5 rows using head() function\n",
    "new_df.head()\n",
    "#calculating number of runs taken by each England striker\n",
    "stats1=new_df.groupby(['striker'])['runs_off_bat'].agg('sum')\n",
    "stats1\n",
    "#putting the result fetched by stats 1 in a dataframe with striker as the key and runs as the value\n",
    "new=pd.DataFrame({'striker':stats1.index, 'runs':stats1.values})\n",
    "new\n",
    "#filtering strikers that have scored less than 20 runs\n",
    "fl= new[new['runs']<20]\n",
    "fl\n",
    "#print number of records with less than 20 runs\n",
    "print(len(fl.index))\n"
   ]
  },
  {
   "cell_type": "code",
   "execution_count": 8,
   "id": "765c0e58",
   "metadata": {},
   "outputs": [
    {
     "data": {
      "text/plain": [
       "'KP Pietersen'"
      ]
     },
     "execution_count": 8,
     "metadata": {},
     "output_type": "execute_result"
    }
   ],
   "source": [
    "#5. Which batsman has the highest strike rate among both teams [Batsman must have scored a \n",
    "#minimum of 15 Runs in the match]\n",
    "#copying the columns 'striker' and 'runs_off_bat' in a new dataframe\n",
    "new_df=cricket[['striker', 'runs_off_bat']].copy()\n",
    "#finding top 5 rows using head() function\n",
    "new_df.head()\n",
    "#calculating number of runs taken by each striker\n",
    "stats1=new_df.groupby(['striker'])['runs_off_bat'].agg('sum')\n",
    "stats1\n",
    "#calculating number of balls played by each striker\n",
    "stats2=new_df.groupby(['striker']).size()\n",
    "stats2\n",
    "#calculating strike rate by divinding number of runs by number of balls\n",
    "strike_rate=stats1/stats2\n",
    "strike_rate\n",
    "#displaying name of striker having maximum strike rate\n",
    "idx=strike_rate.idxmax()\n",
    "idx\n"
   ]
  },
  {
   "cell_type": "code",
   "execution_count": 9,
   "id": "eebb0691",
   "metadata": {},
   "outputs": [
    {
     "name": "stdout",
     "output_type": "stream",
     "text": [
      "           bowler  wides\n",
      "9      GD McGrath    1.0\n",
      "30          B Lee    1.0\n",
      "103  JN Gillespie    1.0\n",
      "197    A Flintoff    1.0\n"
     ]
    }
   ],
   "source": [
    "#6. Which bowler has bowled most wides in this match.\n",
    "#copying the columns 'bowler' and 'wides' in a new dataframe\n",
    "new_df=cricket[['bowler', 'wides']].copy()\n",
    "#finding top 5 rows using head() function\n",
    "new_df.head()\n",
    "#dropping rows where no wide balls are taken\n",
    "df1 = new_df.dropna()\n",
    "df1\n",
    "#displaying the records where maximum wides are taken\n",
    "print(df1[df1.wides == df1.wides.max()])"
   ]
  },
  {
   "cell_type": "code",
   "execution_count": 10,
   "id": "d3db86ba",
   "metadata": {},
   "outputs": [
    {
     "data": {
      "text/plain": [
       "'ME Trescothick'"
      ]
     },
     "execution_count": 10,
     "metadata": {},
     "output_type": "execute_result"
    }
   ],
   "source": [
    "#7. Which batsman has played most balls in this match.\n",
    "#copying the columns 'striker' in a new dataframe\n",
    "new_df=cricket[['striker']].copy()\n",
    "#finding top 5 rows using head() function\n",
    "new_df.head()\n",
    "#calculating the total balls played by each striker(basically balls played by striker=count of their name in dataframe)\n",
    "stats=new_df.groupby(['striker']).size()\n",
    "stats\n",
    "#finding the batsman who played the maximum balls\n",
    "idx=stats.idxmax()\n",
    "idx\n"
   ]
  },
  {
   "cell_type": "code",
   "execution_count": 11,
   "id": "dd9de26d",
   "metadata": {},
   "outputs": [
    {
     "name": "stdout",
     "output_type": "stream",
     "text": [
      "          striker  boundaries\n",
      "7  ME Trescothick           5\n",
      "9  PD Collingwood           5\n"
     ]
    }
   ],
   "source": [
    "#8. Which player has scored the most boundaries (4 runs) in the match.\n",
    "#copying the columns 'striker' and 'runs_off_bat' in a new dataframe\n",
    "new_df=cricket[['striker', 'runs_off_bat']].copy()\n",
    "#finding top 5 rows using head() function\n",
    "new_df.head()\n",
    "#filtreing rows where score is 4\n",
    "fl= new_df[new_df['runs_off_bat']==4]\n",
    "fl\n",
    "#calculating number of boundaries(4's) scored by each batsman\n",
    "stats=fl.groupby(['striker']).size()\n",
    "stats\n",
    "#putting the value in a dataframe with striker as the key and boundaries as the value\n",
    "new=pd.DataFrame({'striker':stats.index, 'boundaries':stats.values})\n",
    "new\n",
    "#printing batsmen having maximum 4's\n",
    "print(new[new.boundaries == new.boundaries.max()])"
   ]
  },
  {
   "cell_type": "code",
   "execution_count": 12,
   "id": "02be7670",
   "metadata": {},
   "outputs": [
    {
     "name": "stdout",
     "output_type": "stream",
     "text": [
      "          striker  boundaries\n",
      "1  PD Collingwood           2\n"
     ]
    }
   ],
   "source": [
    "#9. Which player has scored the most sixes in the match\n",
    "#copying the columns 'striker' and 'runs_off_bat' in a new dataframe\n",
    "new_df=cricket[['striker', 'runs_off_bat']].copy()\n",
    "#finding top 5 rows using head() function\n",
    "new_df.head()\n",
    "#filtreing rows where score is 6\n",
    "fl= new_df[new_df['runs_off_bat']==6]\n",
    "fl\n",
    "#calculating number of boundaries(6's) scored by each batsman\n",
    "stats=fl.groupby(['striker']).size()\n",
    "stats\n",
    "#putting the value in a dataframe with striker as the key and boundaries as the value\n",
    "new=pd.DataFrame({'striker':stats.index, 'boundaries':stats.values})\n",
    "new\n",
    "#printing batsmen having maximum 6's\n",
    "print(new[new.boundaries == new.boundaries.max()])\n"
   ]
  },
  {
   "cell_type": "code",
   "execution_count": 13,
   "id": "848f3a77",
   "metadata": {},
   "outputs": [
    {
     "name": "stdout",
     "output_type": "stream",
     "text": [
      "6\n"
     ]
    }
   ],
   "source": [
    "#10. How many bowlers have conceded 3 or more boundaries in this match.\n",
    "#copying the columns 'bowler' and 'runs_off_bat' in a new dataframe\n",
    "new_df=cricket[['bowler', 'runs_off_bat']].copy()\n",
    "#finding top 5 rows using head() function\n",
    "new_df.head()\n",
    "#filtreing rows where score is 6 or 4\n",
    "fl= new_df[(new_df['runs_off_bat']==6) | (new_df['runs_off_bat']==4)]\n",
    "fl\n",
    "#calculating number of boundaries given by each bowler\n",
    "stats=fl.groupby(['bowler']).size()\n",
    "stats\n",
    "#putting the value in a dataframe with bowler as the key and boundaries as the value\n",
    "new=pd.DataFrame({'bowler':stats.index, 'boundaries':stats.values})\n",
    "new\n",
    "#filtering records with 3 or more boundaries\n",
    "fl= new[new['boundaries']>=3]\n",
    "fl\n",
    "#printing number of bowlers that gabe 3 or more boundaries\n",
    "print(len(fl.index))\n",
    "\n"
   ]
  },
  {
   "cell_type": "code",
   "execution_count": null,
   "id": "cf01e8b3",
   "metadata": {},
   "outputs": [],
   "source": []
  }
 ],
 "metadata": {
  "kernelspec": {
   "display_name": "Python 3 (ipykernel)",
   "language": "python",
   "name": "python3"
  },
  "language_info": {
   "codemirror_mode": {
    "name": "ipython",
    "version": 3
   },
   "file_extension": ".py",
   "mimetype": "text/x-python",
   "name": "python",
   "nbconvert_exporter": "python",
   "pygments_lexer": "ipython3",
   "version": "3.9.7"
  }
 },
 "nbformat": 4,
 "nbformat_minor": 5
}
